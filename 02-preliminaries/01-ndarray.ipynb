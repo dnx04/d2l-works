{
  "cells": [
    {
      "cell_type": "markdown",
      "id": "d2a31975",
      "metadata": {
        "id": "d2a31975",
        "origin_pos": 1
      },
      "source": [
        "# Data Manipulation\n",
        ":label:`sec_ndarray`\n",
        "\n",
        "In order to get anything done, \n",
        "we need some way to store and manipulate data.\n",
        "Generally, there are two important things \n",
        "we need to do with data: \n",
        "(i) acquire them; \n",
        "and (ii) process them once they are inside the computer. \n",
        "There is no point in acquiring data \n",
        "without some way to store it, \n",
        "so to start, let's get our hands dirty\n",
        "with $n$-dimensional arrays, \n",
        "which we also call *tensors*.\n",
        "If you already know the NumPy \n",
        "scientific computing package, \n",
        "this will be a breeze.\n",
        "For all modern deep learning frameworks,\n",
        "the *tensor class* (`ndarray` in MXNet, \n",
        "`Tensor` in PyTorch and TensorFlow) \n",
        "resembles NumPy's `ndarray`,\n",
        "with a few killer features added.\n",
        "First, the tensor class\n",
        "supports automatic differentiation.\n",
        "Second, it leverages GPUs\n",
        "to accelerate numerical computation,\n",
        "whereas NumPy only runs on CPUs.\n",
        "These properties make neural networks\n",
        "both easy to code and fast to run.\n",
        "\n",
        "\n",
        "\n",
        "## Getting Started\n"
      ]
    },
    {
      "cell_type": "markdown",
      "id": "2c323dea",
      "metadata": {
        "id": "2c323dea",
        "origin_pos": 3,
        "tab": [
          "pytorch"
        ]
      },
      "source": [
        "(**To start, we import the PyTorch library.\n",
        "Note that the package name is `torch`.**)\n"
      ]
    },
    {
      "cell_type": "code",
      "execution_count": null,
      "id": "37b91f0c",
      "metadata": {
        "execution": {
          "iopub.execute_input": "2022-07-13T08:08:47.510329Z",
          "iopub.status.busy": "2022-07-13T08:08:47.509419Z",
          "iopub.status.idle": "2022-07-13T08:08:48.367464Z",
          "shell.execute_reply": "2022-07-13T08:08:48.366495Z"
        },
        "id": "37b91f0c",
        "origin_pos": 6,
        "tab": [
          "pytorch"
        ]
      },
      "outputs": [],
      "source": [
        "import torch"
      ]
    },
    {
      "cell_type": "markdown",
      "id": "819ed709",
      "metadata": {
        "id": "819ed709",
        "origin_pos": 8
      },
      "source": [
        "[**A tensor represents a (possibly multi-dimensional) array of numerical values.**]\n",
        "With one axis, a tensor is called a *vector*.\n",
        "With two axes, a tensor is called a *matrix*.\n",
        "With $k > 2$ axes, we drop the specialized names\n",
        "and just refer to the object as a $k^\\mathrm{th}$ *order tensor*.\n"
      ]
    },
    {
      "cell_type": "markdown",
      "id": "7cbe5808",
      "metadata": {
        "id": "7cbe5808",
        "origin_pos": 10,
        "tab": [
          "pytorch"
        ]
      },
      "source": [
        "PyTorch provides a variety of functions \n",
        "for creating new tensors \n",
        "prepopulated with values. \n",
        "For example, by invoking `arange(n)`,\n",
        "we can create a vector of evenly spaced values,\n",
        "starting at 0 (included) \n",
        "and ending at `n` (not included).\n",
        "By default, the interval size is $1$.\n",
        "Unless otherwise specified, \n",
        "new tensors are stored in main memory \n",
        "and designated for CPU-based computation.\n"
      ]
    },
    {
      "cell_type": "code",
      "execution_count": null,
      "id": "46c1b437",
      "metadata": {
        "colab": {
          "base_uri": "https://localhost:8080/"
        },
        "execution": {
          "iopub.execute_input": "2022-07-13T08:08:48.371966Z",
          "iopub.status.busy": "2022-07-13T08:08:48.371341Z",
          "iopub.status.idle": "2022-07-13T08:08:48.384848Z",
          "shell.execute_reply": "2022-07-13T08:08:48.384041Z"
        },
        "id": "46c1b437",
        "origin_pos": 13,
        "outputId": "02b49e76-56be-4dc2-dd3b-26fbd0594cb8",
        "tab": [
          "pytorch"
        ]
      },
      "outputs": [
        {
          "data": {
            "text/plain": [
              "tensor([ 0.,  1.,  2.,  3.,  4.,  5.,  6.,  7.,  8.,  9., 10., 11.])"
            ]
          },
          "execution_count": 58,
          "metadata": {},
          "output_type": "execute_result"
        }
      ],
      "source": [
        "x = torch.arange(12, dtype=torch.float32)\n",
        "x"
      ]
    },
    {
      "cell_type": "markdown",
      "id": "44d4f67d",
      "metadata": {
        "id": "44d4f67d",
        "origin_pos": 16,
        "tab": [
          "pytorch"
        ]
      },
      "source": [
        "Each of these values is called\n",
        "an *element* of the tensor.\n",
        "The tensor `x` contains 12 elements.\n",
        "We can inspect the total number of elements \n",
        "in a tensor via its `numel` method.\n"
      ]
    },
    {
      "cell_type": "code",
      "execution_count": null,
      "id": "58ed0b8b",
      "metadata": {
        "colab": {
          "base_uri": "https://localhost:8080/"
        },
        "execution": {
          "iopub.execute_input": "2022-07-13T08:08:48.388658Z",
          "iopub.status.busy": "2022-07-13T08:08:48.388199Z",
          "iopub.status.idle": "2022-07-13T08:08:48.393495Z",
          "shell.execute_reply": "2022-07-13T08:08:48.392716Z"
        },
        "id": "58ed0b8b",
        "origin_pos": 19,
        "outputId": "4f17465a-0045-4d7a-cd18-727c028703a3",
        "tab": [
          "pytorch"
        ]
      },
      "outputs": [
        {
          "data": {
            "text/plain": [
              "12"
            ]
          },
          "execution_count": 59,
          "metadata": {},
          "output_type": "execute_result"
        }
      ],
      "source": [
        "x.numel()"
      ]
    },
    {
      "cell_type": "markdown",
      "id": "4092abbc",
      "metadata": {
        "id": "4092abbc",
        "origin_pos": 21
      },
      "source": [
        "(**We can access a tensor's *shape***) \n",
        "(the length along each axis)\n",
        "by inspecting its `shape` attribute.\n",
        "Because we are dealing with a vector here,\n",
        "the `shape` contains just a single element\n",
        "and is identical to the size.\n"
      ]
    },
    {
      "cell_type": "code",
      "execution_count": null,
      "id": "25f86f77",
      "metadata": {
        "colab": {
          "base_uri": "https://localhost:8080/"
        },
        "execution": {
          "iopub.execute_input": "2022-07-13T08:08:48.396972Z",
          "iopub.status.busy": "2022-07-13T08:08:48.396539Z",
          "iopub.status.idle": "2022-07-13T08:08:48.401863Z",
          "shell.execute_reply": "2022-07-13T08:08:48.400901Z"
        },
        "id": "25f86f77",
        "origin_pos": 22,
        "outputId": "359490b1-899b-45ef-a63a-ab51df8ff180",
        "tab": [
          "pytorch"
        ]
      },
      "outputs": [
        {
          "data": {
            "text/plain": [
              "torch.Size([12])"
            ]
          },
          "execution_count": 60,
          "metadata": {},
          "output_type": "execute_result"
        }
      ],
      "source": [
        "x.shape"
      ]
    },
    {
      "cell_type": "markdown",
      "id": "32b1bc66",
      "metadata": {
        "id": "32b1bc66",
        "origin_pos": 23
      },
      "source": [
        "We can [**change the shape of a tensor\n",
        "without altering its size or values**],\n",
        "by invoking `reshape`.\n",
        "For example, we can transform \n",
        "our vector `x` whose shape is (12,) \n",
        "to a matrix `X`  with shape (3, 4).\n",
        "This new tensor retains all elements\n",
        "but reconfigures them into a matrix.\n",
        "Notice that the elements of our vector\n",
        "are laid out one row at a time and thus\n",
        "`x[3] == X[0, 3]`.\n"
      ]
    },
    {
      "cell_type": "code",
      "execution_count": null,
      "id": "3451a98d",
      "metadata": {
        "colab": {
          "base_uri": "https://localhost:8080/"
        },
        "execution": {
          "iopub.execute_input": "2022-07-13T08:08:48.406231Z",
          "iopub.status.busy": "2022-07-13T08:08:48.405541Z",
          "iopub.status.idle": "2022-07-13T08:08:48.412736Z",
          "shell.execute_reply": "2022-07-13T08:08:48.411736Z"
        },
        "id": "3451a98d",
        "origin_pos": 24,
        "outputId": "915a892b-a25d-4916-c7e9-9b916fc92981",
        "tab": [
          "pytorch"
        ]
      },
      "outputs": [
        {
          "data": {
            "text/plain": [
              "tensor([[ 0.,  1.,  2.,  3.],\n",
              "        [ 4.,  5.,  6.,  7.],\n",
              "        [ 8.,  9., 10., 11.]])"
            ]
          },
          "execution_count": 61,
          "metadata": {},
          "output_type": "execute_result"
        }
      ],
      "source": [
        "X = x.reshape(3, 4)\n",
        "X"
      ]
    },
    {
      "cell_type": "markdown",
      "id": "3519cedb",
      "metadata": {
        "id": "3519cedb",
        "origin_pos": 26
      },
      "source": [
        "Note that specifying every shape component\n",
        "to `reshape` is redundant.\n",
        "Because we already know our tensor's size,\n",
        "we can work out one component of the shape given the rest.\n",
        "For example, given a tensor of size $n$\n",
        "and target shape ($h$, $w$),\n",
        "we know that $w = n/h$.\n",
        "To automatically infer one component of the shape,\n",
        "we can place a `-1` for the shape component\n",
        "that should be inferred automatically.\n",
        "In our case, instead of calling `x.reshape(3, 4)`,\n",
        "we could have equivalently called `x.reshape(-1, 4)` or `x.reshape(3, -1)`.\n",
        "\n",
        "Practitioners often need to work with tensors\n",
        "initialized to contain all zeros or ones.\n",
        "[**We can construct a tensor with all elements set to zero**] (~~or one~~)\n",
        "and a shape of (2, 3, 4) via the `zeros` function.\n"
      ]
    },
    {
      "cell_type": "code",
      "execution_count": null,
      "id": "49e5a162",
      "metadata": {
        "colab": {
          "base_uri": "https://localhost:8080/"
        },
        "execution": {
          "iopub.execute_input": "2022-07-13T08:08:48.416413Z",
          "iopub.status.busy": "2022-07-13T08:08:48.415720Z",
          "iopub.status.idle": "2022-07-13T08:08:48.422377Z",
          "shell.execute_reply": "2022-07-13T08:08:48.421476Z"
        },
        "id": "49e5a162",
        "origin_pos": 28,
        "outputId": "1b3c77ce-636f-4008-ba96-8ba414a8243a",
        "tab": [
          "pytorch"
        ]
      },
      "outputs": [
        {
          "data": {
            "text/plain": [
              "tensor([[[0., 0., 0., 0.],\n",
              "         [0., 0., 0., 0.],\n",
              "         [0., 0., 0., 0.]],\n",
              "\n",
              "        [[0., 0., 0., 0.],\n",
              "         [0., 0., 0., 0.],\n",
              "         [0., 0., 0., 0.]]])"
            ]
          },
          "execution_count": 62,
          "metadata": {},
          "output_type": "execute_result"
        }
      ],
      "source": [
        "torch.zeros((2, 3, 4))"
      ]
    },
    {
      "cell_type": "markdown",
      "id": "8d9a57a9",
      "metadata": {
        "id": "8d9a57a9",
        "origin_pos": 30
      },
      "source": [
        "Similarly, we can create a tensor \n",
        "with all ones by invoking `ones`.\n"
      ]
    },
    {
      "cell_type": "code",
      "execution_count": null,
      "id": "1afd456f",
      "metadata": {
        "colab": {
          "base_uri": "https://localhost:8080/"
        },
        "execution": {
          "iopub.execute_input": "2022-07-13T08:08:48.426087Z",
          "iopub.status.busy": "2022-07-13T08:08:48.425760Z",
          "iopub.status.idle": "2022-07-13T08:08:48.433037Z",
          "shell.execute_reply": "2022-07-13T08:08:48.432203Z"
        },
        "id": "1afd456f",
        "origin_pos": 32,
        "outputId": "65ec2bd3-49c9-4972-82ba-7728681054c2",
        "tab": [
          "pytorch"
        ]
      },
      "outputs": [
        {
          "data": {
            "text/plain": [
              "tensor([[[1., 1., 1., 1.],\n",
              "         [1., 1., 1., 1.],\n",
              "         [1., 1., 1., 1.]],\n",
              "\n",
              "        [[1., 1., 1., 1.],\n",
              "         [1., 1., 1., 1.],\n",
              "         [1., 1., 1., 1.]]])"
            ]
          },
          "execution_count": 63,
          "metadata": {},
          "output_type": "execute_result"
        }
      ],
      "source": [
        "torch.ones((2, 3, 4))"
      ]
    },
    {
      "cell_type": "markdown",
      "id": "4ee7e6ce",
      "metadata": {
        "id": "4ee7e6ce",
        "origin_pos": 34
      },
      "source": [
        "We often wish to \n",
        "[**sample each element randomly (and independently)**] \n",
        "from a given probability distribution.\n",
        "For example, the parameters of neural networks\n",
        "are often initialized randomly.\n",
        "The following snippet creates a tensor \n",
        "with elements drawn from \n",
        "a standard Gaussian (normal) distribution\n",
        "with mean 0 and standard deviation 1.\n"
      ]
    },
    {
      "cell_type": "code",
      "execution_count": null,
      "id": "cceaa755",
      "metadata": {
        "colab": {
          "base_uri": "https://localhost:8080/"
        },
        "execution": {
          "iopub.execute_input": "2022-07-13T08:08:48.438528Z",
          "iopub.status.busy": "2022-07-13T08:08:48.437834Z",
          "iopub.status.idle": "2022-07-13T08:08:48.444187Z",
          "shell.execute_reply": "2022-07-13T08:08:48.443431Z"
        },
        "id": "cceaa755",
        "origin_pos": 36,
        "outputId": "9477dba2-5e2b-4cd4-fb27-0cb87695b7ef",
        "tab": [
          "pytorch"
        ]
      },
      "outputs": [
        {
          "data": {
            "text/plain": [
              "tensor([[ 0.3745,  1.2078,  0.4410, -1.1556],\n",
              "        [-0.3438,  0.8828, -1.8571, -1.2982],\n",
              "        [ 0.5753, -0.9446, -0.7447,  0.9854]])"
            ]
          },
          "execution_count": 64,
          "metadata": {},
          "output_type": "execute_result"
        }
      ],
      "source": [
        "torch.randn(3, 4)"
      ]
    },
    {
      "cell_type": "markdown",
      "id": "b16e7d62",
      "metadata": {
        "id": "b16e7d62",
        "origin_pos": 38
      },
      "source": [
        "Finally, we can construct tensors by\n",
        "[**supplying the exact values for each element**] \n",
        "by supplying (possibly nested) Python list(s) \n",
        "containing numerical literals.\n",
        "Here, we construct a matrix with a list of lists,\n",
        "where the outermost list corresponds to axis 0,\n",
        "and the inner list to axis 1.\n"
      ]
    },
    {
      "cell_type": "code",
      "execution_count": null,
      "id": "161a311e",
      "metadata": {
        "colab": {
          "base_uri": "https://localhost:8080/"
        },
        "execution": {
          "iopub.execute_input": "2022-07-13T08:08:48.448919Z",
          "iopub.status.busy": "2022-07-13T08:08:48.448608Z",
          "iopub.status.idle": "2022-07-13T08:08:48.455457Z",
          "shell.execute_reply": "2022-07-13T08:08:48.454619Z"
        },
        "id": "161a311e",
        "origin_pos": 40,
        "outputId": "eaac2334-41c8-416e-fae0-37c673b49da2",
        "tab": [
          "pytorch"
        ]
      },
      "outputs": [
        {
          "data": {
            "text/plain": [
              "tensor([[2, 1, 4, 3],\n",
              "        [1, 2, 3, 4],\n",
              "        [4, 3, 2, 1]])"
            ]
          },
          "execution_count": 65,
          "metadata": {},
          "output_type": "execute_result"
        }
      ],
      "source": [
        "torch.tensor([[2, 1, 4, 3], [1, 2, 3, 4], [4, 3, 2, 1]])"
      ]
    },
    {
      "cell_type": "markdown",
      "id": "3a6a498d",
      "metadata": {
        "id": "3a6a498d",
        "origin_pos": 42
      },
      "source": [
        "## Indexing and Slicing\n",
        "\n",
        "As with  Python lists,\n",
        "we can access tensor elements \n",
        "by indexing (starting with 0).\n",
        "To access an element based on its position\n",
        "relative to the end of the list,\n",
        "we can use negative indexing.\n",
        "Finally, we can access whole ranges of indices \n",
        "via slicing (e.g., `X[start:stop]`), \n",
        "where the returned value includes \n",
        "the first index (`start`) *but not the last* (`stop`).\n",
        "Finally, when only one index (or slice)\n",
        "is specified for a $k^\\mathrm{th}$ order tensor,\n",
        "it is applied along axis 0.\n",
        "Thus, in the following code,\n",
        "[**`[-1]` selects the last row and `[1:3]`\n",
        "selects the second and third rows**].\n"
      ]
    },
    {
      "cell_type": "code",
      "execution_count": null,
      "id": "ba24c7ee",
      "metadata": {
        "colab": {
          "base_uri": "https://localhost:8080/"
        },
        "execution": {
          "iopub.execute_input": "2022-07-13T08:08:48.460096Z",
          "iopub.status.busy": "2022-07-13T08:08:48.458985Z",
          "iopub.status.idle": "2022-07-13T08:08:48.466891Z",
          "shell.execute_reply": "2022-07-13T08:08:48.466103Z"
        },
        "id": "ba24c7ee",
        "origin_pos": 43,
        "outputId": "bcbb1619-7b35-4f2e-95be-df29c7d1d88a",
        "tab": [
          "pytorch"
        ]
      },
      "outputs": [
        {
          "data": {
            "text/plain": [
              "(tensor([ 8.,  9., 10., 11.]), tensor([[ 4.,  5.,  6.,  7.],\n",
              "         [ 8.,  9., 10., 11.]]))"
            ]
          },
          "execution_count": 66,
          "metadata": {},
          "output_type": "execute_result"
        }
      ],
      "source": [
        "X[-1], X[1:3]"
      ]
    },
    {
      "cell_type": "markdown",
      "id": "9d9654f7",
      "metadata": {
        "id": "9d9654f7",
        "origin_pos": 44,
        "tab": [
          "pytorch"
        ]
      },
      "source": [
        "Beyond reading, (**we can also write elements of a matrix by specifying indices.**)\n"
      ]
    },
    {
      "cell_type": "code",
      "execution_count": null,
      "id": "ffcfe667",
      "metadata": {
        "colab": {
          "base_uri": "https://localhost:8080/"
        },
        "execution": {
          "iopub.execute_input": "2022-07-13T08:08:48.471878Z",
          "iopub.status.busy": "2022-07-13T08:08:48.471561Z",
          "iopub.status.idle": "2022-07-13T08:08:48.477906Z",
          "shell.execute_reply": "2022-07-13T08:08:48.477141Z"
        },
        "id": "ffcfe667",
        "origin_pos": 46,
        "outputId": "290b15df-6715-4f8b-f2c3-83510a408416",
        "tab": [
          "pytorch"
        ]
      },
      "outputs": [
        {
          "data": {
            "text/plain": [
              "tensor([[ 0.,  1.,  2.,  3.],\n",
              "        [ 4.,  5., 17.,  7.],\n",
              "        [ 8.,  9., 10., 11.]])"
            ]
          },
          "execution_count": 67,
          "metadata": {},
          "output_type": "execute_result"
        }
      ],
      "source": [
        "X[1, 2] = 17\n",
        "X"
      ]
    },
    {
      "cell_type": "markdown",
      "id": "4615b399",
      "metadata": {
        "id": "4615b399",
        "origin_pos": 48
      },
      "source": [
        "If we want [**to assign multiple elements the same value,\n",
        "we apply the indexing on the left-hand side \n",
        "of the assignment operation.**]\n",
        "For instance, `[:2, :]`  accesses \n",
        "the first and second rows,\n",
        "where `:` takes all the elements along axis 1 (column).\n",
        "While we discussed indexing for matrices,\n",
        "this also works for vectors\n",
        "and for tensors of more than 2 dimensions.\n"
      ]
    },
    {
      "cell_type": "code",
      "execution_count": null,
      "id": "a6bacac5",
      "metadata": {
        "colab": {
          "base_uri": "https://localhost:8080/"
        },
        "execution": {
          "iopub.execute_input": "2022-07-13T08:08:48.481485Z",
          "iopub.status.busy": "2022-07-13T08:08:48.481168Z",
          "iopub.status.idle": "2022-07-13T08:08:48.487416Z",
          "shell.execute_reply": "2022-07-13T08:08:48.486564Z"
        },
        "id": "a6bacac5",
        "origin_pos": 49,
        "outputId": "92e876dc-22ff-4a79-df4f-94d4fae606f8",
        "tab": [
          "pytorch"
        ]
      },
      "outputs": [
        {
          "data": {
            "text/plain": [
              "tensor([[12., 12., 12., 12.],\n",
              "        [12., 12., 12., 12.],\n",
              "        [ 8.,  9., 10., 11.]])"
            ]
          },
          "execution_count": 68,
          "metadata": {},
          "output_type": "execute_result"
        }
      ],
      "source": [
        "X[:2, :] = 12\n",
        "X"
      ]
    },
    {
      "cell_type": "markdown",
      "id": "aa228191",
      "metadata": {
        "id": "aa228191",
        "origin_pos": 51
      },
      "source": [
        "## Operations\n",
        "\n",
        "Now that we know how to construct tensors\n",
        "and how to read from and write to their elements,\n",
        "we can begin to manipulate them\n",
        "with various mathematical operations.\n",
        "Among the most useful tools \n",
        "are the *elementwise* operations.\n",
        "These apply a standard scalar operation\n",
        "to each element of a tensor.\n",
        "For functions that take two tensors as inputs,\n",
        "elementwise operations apply some standard binary operator\n",
        "on each pair of corresponding elements.\n",
        "We can create an elementwise function \n",
        "from any function that maps \n",
        "from a scalar to a scalar.\n",
        "\n",
        "In mathematical notation, we denote such\n",
        "*unary* scalar operators (taking one input)\n",
        "by the signature \n",
        "$f: \\mathbb{R} \\rightarrow \\mathbb{R}$.\n",
        "This just means that the function maps\n",
        "from any real number onto some other real number.\n",
        "Most standard operators can be applied elementwise\n",
        "including unary operators like $e^x$.\n"
      ]
    },
    {
      "cell_type": "code",
      "execution_count": null,
      "id": "5fab0567",
      "metadata": {
        "colab": {
          "base_uri": "https://localhost:8080/"
        },
        "execution": {
          "iopub.execute_input": "2022-07-13T08:08:48.490954Z",
          "iopub.status.busy": "2022-07-13T08:08:48.490651Z",
          "iopub.status.idle": "2022-07-13T08:08:48.496832Z",
          "shell.execute_reply": "2022-07-13T08:08:48.496056Z"
        },
        "id": "5fab0567",
        "origin_pos": 53,
        "outputId": "ddf5be52-d99b-4028-a288-aa5d5e9a1a09",
        "tab": [
          "pytorch"
        ]
      },
      "outputs": [
        {
          "data": {
            "text/plain": [
              "tensor([162754.7969, 162754.7969, 162754.7969, 162754.7969, 162754.7969,\n",
              "        162754.7969, 162754.7969, 162754.7969,   2980.9580,   8103.0840,\n",
              "         22026.4648,  59874.1406])"
            ]
          },
          "execution_count": 69,
          "metadata": {},
          "output_type": "execute_result"
        }
      ],
      "source": [
        "torch.exp(x)"
      ]
    },
    {
      "cell_type": "markdown",
      "id": "06e42b36",
      "metadata": {
        "id": "06e42b36",
        "origin_pos": 55
      },
      "source": [
        "Likewise, we denote *binary* scalar operators,\n",
        "which map pairs of real numbers\n",
        "to a (single) real number\n",
        "via the signature \n",
        "$f: \\mathbb{R}, \\mathbb{R} \\rightarrow \\mathbb{R}$.\n",
        "Given any two vectors $\\mathbf{u}$ \n",
        "and $\\mathbf{v}$ *of the same shape*,\n",
        "and a binary operator $f$, we can produce a vector\n",
        "$\\mathbf{c} = F(\\mathbf{u},\\mathbf{v})$\n",
        "by setting $c_i \\gets f(u_i, v_i)$ for all $i$,\n",
        "where $c_i, u_i$, and $v_i$ are the $i^\\mathrm{th}$ elements\n",
        "of vectors $\\mathbf{c}, \\mathbf{u}$, and $\\mathbf{v}$.\n",
        "Here, we produced the vector-valued\n",
        "$F: \\mathbb{R}^d, \\mathbb{R}^d \\rightarrow \\mathbb{R}^d$\n",
        "by *lifting* the scalar function\n",
        "to an elementwise vector operation.\n",
        "The common standard arithmetic operators\n",
        "for addition (`+`), subtraction (`-`), \n",
        "multiplication (`*`), division (`/`), \n",
        "and exponentiation (`**`)\n",
        "have all been *lifted* to elementwise operations\n",
        "for identically-shaped tensors of arbitrary shape.\n"
      ]
    },
    {
      "cell_type": "code",
      "execution_count": null,
      "id": "f038501e",
      "metadata": {
        "colab": {
          "base_uri": "https://localhost:8080/"
        },
        "execution": {
          "iopub.execute_input": "2022-07-13T08:08:48.500736Z",
          "iopub.status.busy": "2022-07-13T08:08:48.500042Z",
          "iopub.status.idle": "2022-07-13T08:08:48.508458Z",
          "shell.execute_reply": "2022-07-13T08:08:48.507647Z"
        },
        "id": "f038501e",
        "origin_pos": 57,
        "outputId": "700b786e-caf1-436f-bd62-3bfbbfe7ac34",
        "tab": [
          "pytorch"
        ]
      },
      "outputs": [
        {
          "data": {
            "text/plain": [
              "(tensor([ 3.,  4.,  6., 10.]),\n",
              " tensor([-1.,  0.,  2.,  6.]),\n",
              " tensor([ 2.,  4.,  8., 16.]),\n",
              " tensor([0.5000, 1.0000, 2.0000, 4.0000]),\n",
              " tensor([ 1.,  4., 16., 64.]))"
            ]
          },
          "execution_count": 70,
          "metadata": {},
          "output_type": "execute_result"
        }
      ],
      "source": [
        "x = torch.tensor([1.0, 2, 4, 8])\n",
        "y = torch.tensor([2, 2, 2, 2])\n",
        "x + y, x - y, x * y, x / y, x ** y"
      ]
    },
    {
      "cell_type": "markdown",
      "id": "421cdfaf",
      "metadata": {
        "id": "421cdfaf",
        "origin_pos": 59
      },
      "source": [
        "In addition to elementwise computations,\n",
        "we can also perform linear algebra operations,\n",
        "such as dot products and matrix multiplications.\n",
        "We will elaborate on these shortly\n",
        "in :numref:`sec_linear-algebra`.\n",
        "\n",
        "We can also [***concatenate* multiple tensors together,**]\n",
        "stacking them end-to-end to form a larger tensor.\n",
        "We just need to provide a list of tensors\n",
        "and tell the system along which axis to concatenate.\n",
        "The example below shows what happens when we concatenate\n",
        "two matrices along rows (axis 0)\n",
        "vs. columns (axis 1).\n",
        "We can see that the first output's axis-0 length ($6$)\n",
        "is the sum of the two input tensors' axis-0 lengths ($3 + 3$);\n",
        "while the second output's axis-1 length ($8$)\n",
        "is the sum of the two input tensors' axis-1 lengths ($4 + 4$).\n"
      ]
    },
    {
      "cell_type": "code",
      "execution_count": null,
      "id": "154c1959",
      "metadata": {
        "colab": {
          "base_uri": "https://localhost:8080/"
        },
        "execution": {
          "iopub.execute_input": "2022-07-13T08:08:48.512176Z",
          "iopub.status.busy": "2022-07-13T08:08:48.511852Z",
          "iopub.status.idle": "2022-07-13T08:08:48.521032Z",
          "shell.execute_reply": "2022-07-13T08:08:48.519927Z"
        },
        "id": "154c1959",
        "origin_pos": 61,
        "outputId": "0c85d7d0-5812-4cfa-acff-198779e7bc80",
        "tab": [
          "pytorch"
        ]
      },
      "outputs": [
        {
          "data": {
            "text/plain": [
              "(tensor([[ 0.,  1.,  2.,  3.],\n",
              "         [ 4.,  5.,  6.,  7.],\n",
              "         [ 8.,  9., 10., 11.],\n",
              "         [ 2.,  1.,  4.,  3.],\n",
              "         [ 1.,  2.,  3.,  4.],\n",
              "         [ 4.,  3.,  2.,  1.]]),\n",
              " tensor([[ 0.,  1.,  2.,  3.,  2.,  1.,  4.,  3.],\n",
              "         [ 4.,  5.,  6.,  7.,  1.,  2.,  3.,  4.],\n",
              "         [ 8.,  9., 10., 11.,  4.,  3.,  2.,  1.]]))"
            ]
          },
          "execution_count": 71,
          "metadata": {},
          "output_type": "execute_result"
        }
      ],
      "source": [
        "X = torch.arange(12, dtype=torch.float32).reshape((3,4))\n",
        "Y = torch.tensor([[2.0, 1, 4, 3], [1, 2, 3, 4], [4, 3, 2, 1]])\n",
        "torch.cat((X, Y), dim=0), torch.cat((X, Y), dim=1)"
      ]
    },
    {
      "cell_type": "markdown",
      "id": "cd40a531",
      "metadata": {
        "id": "cd40a531",
        "origin_pos": 63
      },
      "source": [
        "Sometimes, we want to \n",
        "[**construct a binary tensor via *logical statements*.**]\n",
        "Take `X == Y` as an example.\n",
        "For each position `i, j`, if `X[i, j]` and `Y[i, j]` are equal, \n",
        "then the corresponding entry in the result takes value `1`,\n",
        "otherwise it takes value `0`.\n"
      ]
    },
    {
      "cell_type": "code",
      "execution_count": null,
      "id": "5d95012f",
      "metadata": {
        "colab": {
          "base_uri": "https://localhost:8080/"
        },
        "execution": {
          "iopub.execute_input": "2022-07-13T08:08:48.524524Z",
          "iopub.status.busy": "2022-07-13T08:08:48.524226Z",
          "iopub.status.idle": "2022-07-13T08:08:48.530033Z",
          "shell.execute_reply": "2022-07-13T08:08:48.529264Z"
        },
        "id": "5d95012f",
        "origin_pos": 64,
        "outputId": "f7373dfc-25f5-48f8-e9d5-0775557efe76",
        "tab": [
          "pytorch"
        ]
      },
      "outputs": [
        {
          "data": {
            "text/plain": [
              "tensor([[False,  True, False,  True],\n",
              "        [False, False, False, False],\n",
              "        [False, False, False, False]])"
            ]
          },
          "execution_count": 72,
          "metadata": {},
          "output_type": "execute_result"
        }
      ],
      "source": [
        "X == Y"
      ]
    },
    {
      "cell_type": "markdown",
      "id": "4d5f9067",
      "metadata": {
        "id": "4d5f9067",
        "origin_pos": 65
      },
      "source": [
        "[**Summing all the elements in the tensor**] yields a tensor with only one element.\n"
      ]
    },
    {
      "cell_type": "code",
      "execution_count": null,
      "id": "74c960f9",
      "metadata": {
        "colab": {
          "base_uri": "https://localhost:8080/"
        },
        "execution": {
          "iopub.execute_input": "2022-07-13T08:08:48.533490Z",
          "iopub.status.busy": "2022-07-13T08:08:48.533195Z",
          "iopub.status.idle": "2022-07-13T08:08:48.538973Z",
          "shell.execute_reply": "2022-07-13T08:08:48.538223Z"
        },
        "id": "74c960f9",
        "origin_pos": 66,
        "outputId": "4ecb286f-b986-469e-9e93-d36bb8e6ec06",
        "tab": [
          "pytorch"
        ]
      },
      "outputs": [
        {
          "data": {
            "text/plain": [
              "tensor(66.)"
            ]
          },
          "execution_count": 73,
          "metadata": {},
          "output_type": "execute_result"
        }
      ],
      "source": [
        "X.sum()"
      ]
    },
    {
      "cell_type": "markdown",
      "id": "da8adf1c",
      "metadata": {
        "id": "da8adf1c",
        "origin_pos": 68
      },
      "source": [
        "## Broadcasting\n",
        ":label:`subsec_broadcasting`\n",
        "\n",
        "By now, you know how to perform \n",
        "elementwise binary operations\n",
        "on two tensors of the same shape. \n",
        "Under certain conditions,\n",
        "even when shapes differ, \n",
        "we can still [**perform elementwise binary operations\n",
        "by invoking the *broadcasting mechanism*.**]\n",
        "Broadcasting works according to \n",
        "the following two-step procedure:\n",
        "(i) expand one or both arrays\n",
        "by copying elements along axes with length 1\n",
        "so that after this transformation,\n",
        "the two tensors have the same shape;\n",
        "(ii) perform an elementwise operation\n",
        "on the resulting arrays.\n"
      ]
    },
    {
      "cell_type": "code",
      "execution_count": null,
      "id": "d079d781",
      "metadata": {
        "colab": {
          "base_uri": "https://localhost:8080/"
        },
        "execution": {
          "iopub.execute_input": "2022-07-13T08:08:48.542384Z",
          "iopub.status.busy": "2022-07-13T08:08:48.542093Z",
          "iopub.status.idle": "2022-07-13T08:08:48.548692Z",
          "shell.execute_reply": "2022-07-13T08:08:48.547759Z"
        },
        "id": "d079d781",
        "origin_pos": 70,
        "outputId": "80bdd4c7-7b0d-4a46-b03a-3930dd6a079d",
        "tab": [
          "pytorch"
        ]
      },
      "outputs": [
        {
          "data": {
            "text/plain": [
              "(tensor([[0],\n",
              "         [1],\n",
              "         [2]]), tensor([[0, 1]]))"
            ]
          },
          "execution_count": 74,
          "metadata": {},
          "output_type": "execute_result"
        }
      ],
      "source": [
        "a = torch.arange(3).reshape((3, 1))\n",
        "b = torch.arange(2).reshape((1, 2))\n",
        "a, b"
      ]
    },
    {
      "cell_type": "markdown",
      "id": "8943a6e4",
      "metadata": {
        "id": "8943a6e4",
        "origin_pos": 72
      },
      "source": [
        "Since `a` and `b` are $3\\times1$ \n",
        "and $1\\times2$ matrices, respectively,\n",
        "their shapes do not match up.\n",
        "Broadcasting produces a larger $3\\times2$ matrix \n",
        "by replicating matrix `a` along the columns\n",
        "and matrix `b` along the rows\n",
        "before adding them elementwise.\n"
      ]
    },
    {
      "cell_type": "code",
      "execution_count": null,
      "id": "b2d16464",
      "metadata": {
        "colab": {
          "base_uri": "https://localhost:8080/"
        },
        "execution": {
          "iopub.execute_input": "2022-07-13T08:08:48.553199Z",
          "iopub.status.busy": "2022-07-13T08:08:48.552855Z",
          "iopub.status.idle": "2022-07-13T08:08:48.560446Z",
          "shell.execute_reply": "2022-07-13T08:08:48.559281Z"
        },
        "id": "b2d16464",
        "origin_pos": 73,
        "outputId": "595d1118-eef1-418c-e4b0-0711683fe691",
        "tab": [
          "pytorch"
        ]
      },
      "outputs": [
        {
          "data": {
            "text/plain": [
              "tensor([[0, 1],\n",
              "        [1, 2],\n",
              "        [2, 3]])"
            ]
          },
          "execution_count": 75,
          "metadata": {},
          "output_type": "execute_result"
        }
      ],
      "source": [
        "a + b"
      ]
    },
    {
      "cell_type": "markdown",
      "id": "a8ff3d20",
      "metadata": {
        "id": "a8ff3d20",
        "origin_pos": 74
      },
      "source": [
        "## Saving Memory\n",
        "\n",
        "[**Running operations can cause new memory to be\n",
        "allocated to host results.**]\n",
        "For example, if we write `Y = X + Y`,\n",
        "we dereference the tensor that `Y` used to point to\n",
        "and instead point `Y` at the newly allocated memory.\n",
        "We can demonstrate this issue with Python's `id()` function,\n",
        "which gives us the exact address \n",
        "of the referenced object in memory.\n",
        "Note that after we run `Y = Y + X`,\n",
        "`id(Y)` points to a different location.\n",
        "That's because Python first evaluates `Y + X`,\n",
        "allocating new memory for the result \n",
        "and then points `Y` to this new location in memory.\n"
      ]
    },
    {
      "cell_type": "code",
      "execution_count": null,
      "id": "e4984587",
      "metadata": {
        "colab": {
          "base_uri": "https://localhost:8080/"
        },
        "execution": {
          "iopub.execute_input": "2022-07-13T08:08:48.564398Z",
          "iopub.status.busy": "2022-07-13T08:08:48.564052Z",
          "iopub.status.idle": "2022-07-13T08:08:48.571387Z",
          "shell.execute_reply": "2022-07-13T08:08:48.570230Z"
        },
        "id": "e4984587",
        "origin_pos": 75,
        "outputId": "6570d3cf-28ac-48b8-945d-3de02200530d",
        "tab": [
          "pytorch"
        ]
      },
      "outputs": [
        {
          "data": {
            "text/plain": [
              "False"
            ]
          },
          "execution_count": 76,
          "metadata": {},
          "output_type": "execute_result"
        }
      ],
      "source": [
        "before = id(Y)\n",
        "Y = Y + X\n",
        "id(Y) == before"
      ]
    },
    {
      "cell_type": "markdown",
      "id": "1c8c3de8",
      "metadata": {
        "id": "1c8c3de8",
        "origin_pos": 76
      },
      "source": [
        "This might be undesirable for two reasons.\n",
        "First, we do not want to run around\n",
        "allocating memory unnecessarily all the time.\n",
        "In machine learning, we often have\n",
        "hundreds of megabytes of parameters\n",
        "and update all of them multiple times per second.\n",
        "Whenever possible, we want to perform these updates *in place*.\n",
        "Second, we might point at the \n",
        "same parameters from multiple variables.\n",
        "If we do not update in place, \n",
        "we must be careful to update all of these references,\n",
        "lest we spring a memory leak \n",
        "or inadvertently refer to stale parameters.\n"
      ]
    },
    {
      "cell_type": "markdown",
      "id": "5d16c31b",
      "metadata": {
        "id": "5d16c31b",
        "origin_pos": 77,
        "tab": [
          "pytorch"
        ]
      },
      "source": [
        "Fortunately, (**performing in-place operations**) is easy.\n",
        "We can assign the result of an operation\n",
        "to a previously allocated array `Y`\n",
        "by using slice notation: `Y[:] = <expression>`.\n",
        "To illustrate this concept, \n",
        "we overwrite the values of tensor `Z`,\n",
        "after initializing it, using `zeros_like`,\n",
        "to have the same shape as `Y`.\n"
      ]
    },
    {
      "cell_type": "code",
      "execution_count": null,
      "id": "ff39a49d",
      "metadata": {
        "colab": {
          "base_uri": "https://localhost:8080/"
        },
        "execution": {
          "iopub.execute_input": "2022-07-13T08:08:48.575428Z",
          "iopub.status.busy": "2022-07-13T08:08:48.575082Z",
          "iopub.status.idle": "2022-07-13T08:08:48.581874Z",
          "shell.execute_reply": "2022-07-13T08:08:48.580846Z"
        },
        "id": "ff39a49d",
        "origin_pos": 80,
        "outputId": "c9702846-b1f5-49c8-927e-69d8fc850152",
        "tab": [
          "pytorch"
        ]
      },
      "outputs": [
        {
          "name": "stdout",
          "output_type": "stream",
          "text": [
            "id(Z): 140652966502576\n",
            "id(Z): 140652966502576\n"
          ]
        }
      ],
      "source": [
        "Z = torch.zeros_like(Y)\n",
        "print('id(Z):', id(Z))\n",
        "Z[:] = X + Y\n",
        "print('id(Z):', id(Z))"
      ]
    },
    {
      "cell_type": "markdown",
      "id": "1591a2d8",
      "metadata": {
        "id": "1591a2d8",
        "origin_pos": 82,
        "tab": [
          "pytorch"
        ]
      },
      "source": [
        "[**If the value of `X` is not reused in subsequent computations,\n",
        "we can also use `X[:] = X + Y` or `X += Y`\n",
        "to reduce the memory overhead of the operation.**]\n"
      ]
    },
    {
      "cell_type": "code",
      "execution_count": null,
      "id": "b4179d1d",
      "metadata": {
        "colab": {
          "base_uri": "https://localhost:8080/"
        },
        "execution": {
          "iopub.execute_input": "2022-07-13T08:08:48.585550Z",
          "iopub.status.busy": "2022-07-13T08:08:48.585256Z",
          "iopub.status.idle": "2022-07-13T08:08:48.593350Z",
          "shell.execute_reply": "2022-07-13T08:08:48.592182Z"
        },
        "id": "b4179d1d",
        "origin_pos": 84,
        "outputId": "4a5b0a6b-8367-4c2c-cd45-eb36e015a350",
        "tab": [
          "pytorch"
        ]
      },
      "outputs": [
        {
          "data": {
            "text/plain": [
              "True"
            ]
          },
          "execution_count": 78,
          "metadata": {},
          "output_type": "execute_result"
        }
      ],
      "source": [
        "before = id(X)\n",
        "X += Y\n",
        "id(X) == before"
      ]
    },
    {
      "cell_type": "markdown",
      "id": "6cd02ca0",
      "metadata": {
        "id": "6cd02ca0",
        "origin_pos": 86
      },
      "source": [
        "## Conversion to Other Python Objects\n"
      ]
    },
    {
      "cell_type": "markdown",
      "id": "440ce69d",
      "metadata": {
        "id": "440ce69d",
        "origin_pos": 88,
        "tab": [
          "pytorch"
        ]
      },
      "source": [
        "[**Converting to a NumPy tensor (`ndarray`)**], or vice versa, is easy.\n",
        "The torch Tensor and numpy array \n",
        "will share their underlying memory, \n",
        "and changing one through an in-place operation \n",
        "will also change the other.\n"
      ]
    },
    {
      "cell_type": "code",
      "execution_count": null,
      "id": "34f481d9",
      "metadata": {
        "colab": {
          "base_uri": "https://localhost:8080/"
        },
        "execution": {
          "iopub.execute_input": "2022-07-13T08:08:48.597368Z",
          "iopub.status.busy": "2022-07-13T08:08:48.596765Z",
          "iopub.status.idle": "2022-07-13T08:08:48.603860Z",
          "shell.execute_reply": "2022-07-13T08:08:48.602760Z"
        },
        "id": "34f481d9",
        "origin_pos": 90,
        "outputId": "8077cd88-fde5-4c65-ac15-5a961451e45e",
        "tab": [
          "pytorch"
        ]
      },
      "outputs": [
        {
          "data": {
            "text/plain": [
              "(numpy.ndarray, torch.Tensor)"
            ]
          },
          "execution_count": 79,
          "metadata": {},
          "output_type": "execute_result"
        }
      ],
      "source": [
        "A = X.numpy()\n",
        "B = torch.from_numpy(A)\n",
        "type(A), type(B)"
      ]
    },
    {
      "cell_type": "markdown",
      "id": "d2896078",
      "metadata": {
        "id": "d2896078",
        "origin_pos": 92
      },
      "source": [
        "To (**convert a size-1 tensor to a Python scalar**),\n",
        "we can invoke the `item` function or Python's built-in functions.\n"
      ]
    },
    {
      "cell_type": "code",
      "execution_count": null,
      "id": "c3f57d14",
      "metadata": {
        "colab": {
          "base_uri": "https://localhost:8080/"
        },
        "execution": {
          "iopub.execute_input": "2022-07-13T08:08:48.608055Z",
          "iopub.status.busy": "2022-07-13T08:08:48.607395Z",
          "iopub.status.idle": "2022-07-13T08:08:48.615075Z",
          "shell.execute_reply": "2022-07-13T08:08:48.614151Z"
        },
        "id": "c3f57d14",
        "origin_pos": 94,
        "outputId": "de849428-2f2a-456e-865e-1c89324d9ec3",
        "tab": [
          "pytorch"
        ]
      },
      "outputs": [
        {
          "data": {
            "text/plain": [
              "(tensor([3.5000]), 3.5, 3.5, 3)"
            ]
          },
          "execution_count": 80,
          "metadata": {},
          "output_type": "execute_result"
        }
      ],
      "source": [
        "a = torch.tensor([3.5])\n",
        "a, a.item(), float(a), int(a)"
      ]
    },
    {
      "cell_type": "markdown",
      "id": "76a4dc07",
      "metadata": {
        "id": "76a4dc07",
        "origin_pos": 96
      },
      "source": [
        "## Summary\n",
        "\n",
        " * The tensor class is the main interface for storing and manipulating data in deep learning libraries.\n",
        " * Tensors provide a variety of functionalities including construction routines; indexing and slicing; basic mathematics operations; broadcasting; memory-efficient assignment; and conversion to and from other Python objects.\n",
        "\n",
        "\n",
        "## Exercises\n",
        "\n",
        "1. Run the code in this section. Change the conditional statement `X == Y` to `X < Y` or `X > Y`, and then see what kind of tensor you can get.\n",
        "1. Replace the two tensors that operate by element in the broadcasting mechanism with other shapes, e.g., 3-dimensional tensors. Is the result the same as expected?\n"
      ]
    },
    {
      "cell_type": "code",
      "execution_count": null,
      "id": "v_WIWfYGXj93",
      "metadata": {
        "colab": {
          "base_uri": "https://localhost:8080/"
        },
        "id": "v_WIWfYGXj93",
        "outputId": "9f9dfdba-97d6-4934-c29c-08617f8ba9d8"
      },
      "outputs": [
        {
          "name": "stdout",
          "output_type": "stream",
          "text": [
            "X =  tensor([[ 2.,  3.,  8.,  9.],\n",
            "        [ 9., 12., 15., 18.],\n",
            "        [20., 21., 22., 23.]])\n",
            "Y =  tensor([[ 2.,  2.,  6.,  6.],\n",
            "        [ 5.,  7.,  9., 11.],\n",
            "        [12., 12., 12., 12.]])\n",
            "tensor([[ True, False, False, False],\n",
            "        [False, False, False, False],\n",
            "        [False, False, False, False]])\n",
            "tensor([[False, False, False, False],\n",
            "        [False, False, False, False],\n",
            "        [False, False, False, False]])\n",
            "tensor([[False,  True,  True,  True],\n",
            "        [ True,  True,  True,  True],\n",
            "        [ True,  True,  True,  True]])\n"
          ]
        }
      ],
      "source": [
        "# Exercise 1\n",
        "print('X = ', X)\n",
        "print('Y = ', Y)\n",
        "print(X == Y)\n",
        "print(X < Y)\n",
        "print(X > Y)"
      ]
    },
    {
      "cell_type": "code",
      "execution_count": null,
      "id": "kFBgE13qYZik",
      "metadata": {
        "colab": {
          "base_uri": "https://localhost:8080/"
        },
        "id": "kFBgE13qYZik",
        "outputId": "b65e5625-b8ae-4b60-958a-d7cd330c85e4"
      },
      "outputs": [
        {
          "name": "stdout",
          "output_type": "stream",
          "text": [
            "tensor([[[0]],\n",
            "\n",
            "        [[1]],\n",
            "\n",
            "        [[2]]])\n",
            "tensor([[[0, 1],\n",
            "         [2, 3]]])\n"
          ]
        }
      ],
      "source": [
        "# Exercise 2\n",
        "a = torch.arange(3).reshape((3, 1, 1))\n",
        "b = torch.arange(4).reshape((1, 2, 2))\n",
        "print(a)\n",
        "print(b)"
      ]
    },
    {
      "cell_type": "markdown",
      "id": "01bab3f5",
      "metadata": {
        "id": "01bab3f5",
        "origin_pos": 98,
        "tab": [
          "pytorch"
        ]
      },
      "source": [
        "[Discussions](https://discuss.d2l.ai/t/27)\n"
      ]
    }
  ],
  "metadata": {
    "colab": {
      "name": "ndarray.ipynb",
      "provenance": []
    },
    "kernelspec": {
      "display_name": "Python 3.10.5 64-bit",
      "language": "python",
      "name": "python3"
    },
    "language_info": {
      "name": "python",
      "version": "3.10.5"
    },
    "vscode": {
      "interpreter": {
        "hash": "916dbcbb3f70747c44a77c7bcd40155683ae19c65e1c03b4aa3499c5328201f1"
      }
    }
  },
  "nbformat": 4,
  "nbformat_minor": 5
}
